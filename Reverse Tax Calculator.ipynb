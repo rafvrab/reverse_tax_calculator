{
 "cells": [
  {
   "cell_type": "markdown",
   "id": "84163556",
   "metadata": {},
   "source": [
    "Problem: This is for a sale in New York City. We have a sales total that already include taxes, but we need to show the subtotal in the bill, as well was the amount of tax we were charging at 8.875% - this includes state and city taxes. "
   ]
  },
  {
   "cell_type": "code",
   "execution_count": 3,
   "id": "42eeb644",
   "metadata": {},
   "outputs": [
    {
     "name": "stdout",
     "output_type": "stream",
     "text": [
      "Enter the grand total: 1619.25\n",
      "Subtotal: 1487.256027554535\n",
      "8.875% Tax: 131.99397244546503\n",
      "Total: 1619.25\n"
     ]
    }
   ],
   "source": [
    "# Get user input for the grand total\n",
    "total = float(input(\"Enter the grand total: \"))\n",
    "\n",
    "# Calculate subtotal\n",
    "subtotal = total / (1 + 0.08875)\n",
    "\n",
    "# Calculate tax\n",
    "tax = total - subtotal\n",
    "\n",
    "# Verify that the total matches the calculated total\n",
    "calculated_total = subtotal + tax\n",
    "\n",
    "# Print the results\n",
    "print(f\"Subtotal: {subtotal}\")\n",
    "print(f\"8.875% Tax: {tax}\")\n",
    "print(f\"Total: {calculated_total}\")\n"
   ]
  },
  {
   "cell_type": "code",
   "execution_count": null,
   "id": "b11619bb",
   "metadata": {},
   "outputs": [],
   "source": []
  }
 ],
 "metadata": {
  "kernelspec": {
   "display_name": "Python 3 (ipykernel)",
   "language": "python",
   "name": "python3"
  },
  "language_info": {
   "codemirror_mode": {
    "name": "ipython",
    "version": 3
   },
   "file_extension": ".py",
   "mimetype": "text/x-python",
   "name": "python",
   "nbconvert_exporter": "python",
   "pygments_lexer": "ipython3",
   "version": "3.10.9"
  }
 },
 "nbformat": 4,
 "nbformat_minor": 5
}

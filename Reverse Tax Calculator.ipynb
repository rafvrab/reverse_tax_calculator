{
 "cells": [
  {
   "cell_type": "markdown",
   "id": "79d72d9b",
   "metadata": {},
   "source": [
    "Problem: This is for a sale in New York City. We have a sales total that already include taxes, but we need to show the subtotal in the bill, as well was the amount of tax we were charging at 8.875% - this includes state and city taxes. "
   ]
  },
  {
   "cell_type": "code",
   "execution_count": 1,
   "id": "4cd8d425",
   "metadata": {},
   "outputs": [
    {
     "name": "stdout",
     "output_type": "stream",
     "text": [
      "Enter the grand total: 786.98\n",
      "Subtotal: 722.83\n",
      "8.875% Tax: 64.15\n",
      "Total: 786.98\n"
     ]
    }
   ],
   "source": [
    "# Get user input for the grand total\n",
    "total = float(input(\"Enter the grand total: \"))\n",
    "\n",
    "# Calculate subtotal\n",
    "subtotal = round(total / (1 + 0.08875), 2)\n",
    "\n",
    "# Calculate tax\n",
    "tax = round(total - subtotal, 2)\n",
    "\n",
    "# Verify that the total matches the calculated total\n",
    "calculated_total = round(subtotal + tax, 2)\n",
    "\n",
    "# Print the results\n",
    "print(f\"Subtotal: {subtotal:.2f}\")\n",
    "print(f\"8.875% Tax: {tax:.2f}\")\n",
    "print(f\"Total: {calculated_total:.2f}\")\n"
   ]
  },
  {
   "cell_type": "code",
   "execution_count": null,
   "id": "030d46cd",
   "metadata": {},
   "outputs": [],
   "source": []
  }
 ],
 "metadata": {
  "kernelspec": {
   "display_name": "Python 3 (ipykernel)",
   "language": "python",
   "name": "python3"
  },
  "language_info": {
   "codemirror_mode": {
    "name": "ipython",
    "version": 3
   },
   "file_extension": ".py",
   "mimetype": "text/x-python",
   "name": "python",
   "nbconvert_exporter": "python",
   "pygments_lexer": "ipython3",
   "version": "3.10.9"
  }
 },
 "nbformat": 4,
 "nbformat_minor": 5
}
